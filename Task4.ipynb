{
 "cells": [
  {
   "cell_type": "code",
   "execution_count": 45,
   "id": "78be3619",
   "metadata": {},
   "outputs": [],
   "source": [
    "import cv2\n",
    "import numpy"
   ]
  },
  {
   "cell_type": "code",
   "execution_count": 46,
   "id": "6710b546",
   "metadata": {},
   "outputs": [],
   "source": [
    "ph = numpy.zeros([168, 299, 3])\n",
    "ph[:,:]= [0,0,255]"
   ]
  },
  {
   "cell_type": "code",
   "execution_count": 47,
   "id": "c9330350",
   "metadata": {},
   "outputs": [],
   "source": [
    "#first image\n",
    "\n",
    "cv2.imshow('first image:before',ph)\n",
    "cv2.waitKey()\n",
    "cv2.destroyAllWindows()\n"
   ]
  },
  {
   "cell_type": "code",
   "execution_count": 48,
   "id": "7e98f6ac",
   "metadata": {},
   "outputs": [],
   "source": [
    "a1 = numpy.zeros([168, 299, 3])\n",
    "temp = numpy.zeros([168,299,3])\n",
    "a1[:100, :200] = [255,255,0]"
   ]
  },
  {
   "cell_type": "code",
   "execution_count": 49,
   "id": "0658c9c0",
   "metadata": {},
   "outputs": [],
   "source": [
    "#second image\n",
    "\n",
    "cv2.imshow('second image: before',a1)\n",
    "cv2.waitKey()\n",
    "cv2.destroyAllWindows()"
   ]
  },
  {
   "cell_type": "code",
   "execution_count": 50,
   "id": "8ca86518",
   "metadata": {},
   "outputs": [],
   "source": [
    "#croping some parts and swap\n",
    "\n",
    "for i in range(50, 150):\n",
    "    for j in range(50, 170):\n",
    "        temp[i,j] = a1[i,j]\n",
    "        a1[i,j] = ph[i,j]\n",
    "        ph[i,j] = temp[i,j]"
   ]
  },
  {
   "cell_type": "code",
   "execution_count": 51,
   "id": "df239d87",
   "metadata": {},
   "outputs": [],
   "source": [
    "#first image \n",
    "\n",
    "cv2.imshow('first image : after',ph)\n",
    "cv2.waitKey()\n",
    "cv2.destroyAllWindows()"
   ]
  },
  {
   "cell_type": "code",
   "execution_count": 52,
   "id": "e18717f7",
   "metadata": {},
   "outputs": [],
   "source": [
    "#second image\n",
    "\n",
    "cv2.imshow('second image: after',a1)\n",
    "cv2.waitKey()\n",
    "cv2.destroyAllWindows()"
   ]
  },
  {
   "cell_type": "code",
   "execution_count": 53,
   "id": "85c5ae41",
   "metadata": {},
   "outputs": [],
   "source": [
    "#join both images\n",
    "\n",
    "join = numpy.append(a1,ph,axis = 1)\n",
    "cv2.imshow('Combined image',join)\n",
    "cv2.waitKey()\n",
    "cv2.destroyAllWindows()"
   ]
  },
  {
   "cell_type": "code",
   "execution_count": null,
   "id": "30f3f0d0",
   "metadata": {},
   "outputs": [],
   "source": []
  }
 ],
 "metadata": {
  "kernelspec": {
   "display_name": "Python 3",
   "language": "python",
   "name": "python3"
  },
  "language_info": {
   "codemirror_mode": {
    "name": "ipython",
    "version": 3
   },
   "file_extension": ".py",
   "mimetype": "text/x-python",
   "name": "python",
   "nbconvert_exporter": "python",
   "pygments_lexer": "ipython3",
   "version": "3.8.8"
  }
 },
 "nbformat": 4,
 "nbformat_minor": 5
}
